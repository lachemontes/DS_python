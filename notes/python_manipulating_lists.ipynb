{
 "cells": [
  {
   "cell_type": "markdown",
   "id": "8b44b2e3",
   "metadata": {},
   "source": [
    "# Manipulating list with python"
   ]
  },
  {
   "cell_type": "markdown",
   "id": "0dd044c9",
   "metadata": {},
   "source": []
  },
  {
   "cell_type": "markdown",
   "id": "47ec823d",
   "metadata": {},
   "source": [
    "Changing list elements is pretty straightforward. You use the same square brackets that we've used to subset lists, and then assign new elements to it using the equals sign. Suppose that after another look at fam, you realize that your dad's height is not up to date anymore, as he's shrinking with age. Instead of 1.89 meters, it should be 1.86 meters. "
   ]
  },
  {
   "cell_type": "code",
   "execution_count": 1,
   "id": "dfd63a2c",
   "metadata": {},
   "outputs": [
    {
     "name": "stdout",
     "output_type": "stream",
     "text": [
      "['Liz', 1.73, 'Emma', 1.68, 'mom', 1.71, 'dad', 1.89]\n"
     ]
    }
   ],
   "source": [
    "fam = [\"Liz\", 1.73, \"Emma\", 1.68, \"mom\", 1.71, \"dad\", 1.89]\n",
    "print(fam)"
   ]
  },
  {
   "cell_type": "markdown",
   "id": "f3217eb9",
   "metadata": {},
   "source": [
    "To change this list element, which is at index 7, you can use this line of code. If you now check out fam, you'll see that the value is updated. You can even change an entire list slice at once. To change the elements \"liz\" and 1.73, you access the first two elements with 0:2, and then assign a new list to it. Do you still remember how the plus operator was different for strings and integers?"
   ]
  },
  {
   "cell_type": "code",
   "execution_count": 2,
   "id": "ecfb6b7f",
   "metadata": {},
   "outputs": [
    {
     "data": {
      "text/plain": [
       "['Liz', 1.73, 'Emma', 1.68, 'mom', 1.71, 'dad', 1.86]"
      ]
     },
     "execution_count": 2,
     "metadata": {},
     "output_type": "execute_result"
    }
   ],
   "source": [
    "fam[7] = 1.86\n",
    "fam"
   ]
  },
  {
   "cell_type": "markdown",
   "id": "319e219b",
   "metadata": {},
   "source": [
    "## Adding and removing elements\n",
    "Well, it's again different for lists. If you use the plus sign with two lists, Python simply pastes together their contents in a single list. Suppose you want to add your own name and height to the fam height list. This will do the trick. "
   ]
  },
  {
   "cell_type": "code",
   "execution_count": 5,
   "id": "3849b41c",
   "metadata": {},
   "outputs": [
    {
     "data": {
      "text/plain": [
       "['lisa', 1.74, 'Emma', 1.68, 'mom', 1.71, 'dad', 1.86]"
      ]
     },
     "execution_count": 5,
     "metadata": {},
     "output_type": "execute_result"
    }
   ],
   "source": [
    "fam[0:2] = [\"lisa\", 1.74]\n",
    "fam"
   ]
  },
  {
   "cell_type": "code",
   "execution_count": 7,
   "id": "34681320",
   "metadata": {},
   "outputs": [
    {
     "data": {
      "text/plain": [
       "['lisa', 1.74, 'Emma', 1.68, 'mom', 1.71, 'dad', 1.86, 'me', 1.79]"
      ]
     },
     "execution_count": 7,
     "metadata": {},
     "output_type": "execute_result"
    }
   ],
   "source": [
    "fam + [\"me\", 1.79]\n"
   ]
  },
  {
   "cell_type": "markdown",
   "id": "1bd3d3f9",
   "metadata": {},
   "source": [
    "Of course, you can also store this new list in a variable, fam_ext for example."
   ]
  },
  {
   "cell_type": "code",
   "execution_count": 8,
   "id": "e61dc045",
   "metadata": {},
   "outputs": [
    {
     "data": {
      "text/plain": [
       "['lisa', 1.74, 'Emma', 1.68, 'mom', 1.71, 'dad', 1.86, 'me', 1.79]"
      ]
     },
     "execution_count": 8,
     "metadata": {},
     "output_type": "execute_result"
    }
   ],
   "source": [
    "fam_ext = fam + [\"me\", 1.79]\n",
    "fam_ext"
   ]
  },
  {
   "cell_type": "code",
   "execution_count": 9,
   "id": "fe007393",
   "metadata": {},
   "outputs": [
    {
     "data": {
      "text/plain": [
       "['lisa', 1.74, 1.68, 'mom', 1.71, 'dad', 1.86]"
      ]
     },
     "execution_count": 9,
     "metadata": {},
     "output_type": "execute_result"
    }
   ],
   "source": [
    "# You can also remove elements from the lists\n",
    "fam_ext = fam + [\"me\", 1.79]\n",
    "del fam[2]\n",
    "fam"
   ]
  },
  {
   "cell_type": "code",
   "execution_count": 10,
   "id": "f8552544",
   "metadata": {},
   "outputs": [
    {
     "data": {
      "text/plain": [
       "['a', 'z', 'c']"
      ]
     },
     "execution_count": 10,
     "metadata": {},
     "output_type": "execute_result"
    }
   ],
   "source": [
    "# Behind the scenes (1)\n",
    "x = [\"a\", \"b\", \"c\"] \n",
    "y = x\n",
    "y[1] = \"z\"\n",
    "y"
   ]
  },
  {
   "cell_type": "code",
   "execution_count": 13,
   "id": "0a967c23",
   "metadata": {},
   "outputs": [
    {
     "data": {
      "text/plain": [
       "['a', 'z', 'c']"
      ]
     },
     "execution_count": 13,
     "metadata": {},
     "output_type": "execute_result"
    }
   ],
   "source": [
    "x\n"
   ]
  },
  {
   "cell_type": "code",
   "execution_count": 14,
   "id": "417b580a",
   "metadata": {},
   "outputs": [],
   "source": [
    "# To store in a new list\n",
    "x = [\"a\", \"b\", \"c\"] \n",
    "y = list(x)\n",
    "y = x[:]"
   ]
  },
  {
   "cell_type": "markdown",
   "id": "545d9459",
   "metadata": {},
   "source": [
    "# Exercise\n",
    "### Replace list elements\n",
    "To replace list elements, you subset the list and assign new values to the subset. You can select single elements or you can change entire list slices at once.\n",
    "\n",
    "For this and the following exercises, you'll continue working on the areas list that contains the names and `areas` of different rooms in a house.\n",
    "\n"
   ]
  },
  {
   "cell_type": "markdown",
   "id": "14b51b0e",
   "metadata": {},
   "source": [
    "### Instructions\n",
    "\n",
    "Update the area of the bathroom to be `10.50` square meters instead of `9.50` using negative indexing.\n",
    "Make the `areas` list more trendy! Change `\"living room\"` to `\"chill zone\"`. Don't use negative indexing this time."
   ]
  },
  {
   "cell_type": "code",
   "execution_count": 17,
   "id": "29c2db52",
   "metadata": {},
   "outputs": [],
   "source": [
    "# Create the areas list\n",
    "areas = [\"hallway\", 11.25, \"kitchen\", 18.0, \"living room\", 20.0, \"bedroom\", 10.75, \"bathroom\", 9.50]\n",
    "\n",
    "# Correct the bathroom area\n",
    "areas[-1]= 10.50\n",
    "\n",
    "# Change \"living room\" to \"chill zone\"\n",
    "areas[4]= \"chill zone\""
   ]
  },
  {
   "cell_type": "code",
   "execution_count": 18,
   "id": "fe5cf27e",
   "metadata": {},
   "outputs": [
    {
     "name": "stdout",
     "output_type": "stream",
     "text": [
      "['hallway', 11.25, 'kitchen', 18.0, 'chill zone', 20.0, 'bedroom', 10.75, 'bathroom', 10.5]\n"
     ]
    }
   ],
   "source": [
    "print(areas)"
   ]
  },
  {
   "cell_type": "markdown",
   "id": "79c8d10e",
   "metadata": {},
   "source": [
    "### Extend a list\n",
    "If you can change elements in a list, you sure want to be able to add elements to it, right? You can use the `+` operator:\n",
    "\n",
    "```\n",
    "x = [\"a\", \"b\", \"c\", \"d\"]\n",
    "y = x + [\"e\", \"f\"]\n",
    "```\n",
    "You just won the lottery, awesome! You decide to build a poolhouse and a garage. Can you add the information to the areas list?\n",
    "\n",
    "### Instructions\n",
    "\n",
    "Use the + operator to paste the list [\"poolhouse\", 24.5] to the end of the areas list. Store the resulting list as areas_1.\n",
    "Further extend areas_1 by adding data on your garage. Add the string \"garage\" and float 15.45. Name the resulting list areas_2.\n"
   ]
  },
  {
   "cell_type": "code",
   "execution_count": 22,
   "id": "7f3d836a",
   "metadata": {},
   "outputs": [
    {
     "data": {
      "text/plain": [
       "['hallway',\n",
       " 11.25,\n",
       " 'kitchen',\n",
       " 18.0,\n",
       " 'chill zone',\n",
       " 20.0,\n",
       " 'bedroom',\n",
       " 10.75,\n",
       " 'bathroom',\n",
       " 10.5,\n",
       " 'poolhouse',\n",
       " 24.5,\n",
       " 'garage',\n",
       " 15.45]"
      ]
     },
     "execution_count": 22,
     "metadata": {},
     "output_type": "execute_result"
    }
   ],
   "source": [
    "# Create the areas list and make some changes\n",
    "areas = [\"hallway\", 11.25, \"kitchen\", 18.0, \"chill zone\", 20.0,\n",
    "         \"bedroom\", 10.75, \"bathroom\", 10.50]\n",
    "\n",
    "# Add poolhouse data to areas, new list is areas_1\n",
    "areas_1 = areas + [\"poolhouse\", 24.5]\n",
    "areas_1\n",
    "\n",
    "# Add garage data to areas_1, new list is areas_2\n",
    "areas_2 = areas_1 + [\"garage\", 15.45]\n",
    "areas_2"
   ]
  },
  {
   "cell_type": "markdown",
   "id": "8fc3ddf0",
   "metadata": {},
   "source": [
    "### Delete list elements\n",
    "Finally, you can also remove elements from your list. You can do this with the del statement:\n",
    "\n",
    "```\n",
    "x = [\"a\", \"b\", \"c\", \"d\"]\n",
    "del x[1]\n",
    "```\n",
    "Pay attention here: as soon as you remove an element from a list, the indexes of the elements that come after the deleted element all change!\n",
    "\n",
    "Unfortunately, the amount you won with the lottery is not that big after all and it looks like the poolhouse isn't going to happen. You'll need to remove it from the list. You decide to remove the corresponding string and float from the `areas` list.\n",
    "\n",
    "### Instructions\n",
    "\n",
    "Delete the string and float for the `\"poolhouse\"` from your `areas` list.\n",
    "Print the updated `areas` list."
   ]
  },
  {
   "cell_type": "markdown",
   "id": "6a543653",
   "metadata": {},
   "source": []
  },
  {
   "cell_type": "code",
   "execution_count": 29,
   "id": "79ad9f07",
   "metadata": {},
   "outputs": [
    {
     "name": "stdout",
     "output_type": "stream",
     "text": [
      "['hallway', 11.25, 'kitchen', 18.0, 'chill zone', 20.0, 'bedroom', 10.75, 'bathroom', 10.5, 'garage', 15.45]\n"
     ]
    }
   ],
   "source": [
    "areas = [\"hallway\", 11.25, \"kitchen\", 18.0,\n",
    "        \"chill zone\", 20.0, \"bedroom\", 10.75,\n",
    "         \"bathroom\", 10.50, \"poolhouse\", 24.5,\n",
    "         \"garage\", 15.45]\n",
    "\n",
    "# Delete the poolhouse items from the list\n",
    "del areas[10:12]\n",
    "\n",
    "# Print the updated list\n",
    "print(areas)"
   ]
  },
  {
   "cell_type": "markdown",
   "id": "3b8fcb97",
   "metadata": {},
   "source": [
    "### Inner workings of lists\n",
    "Some code has been provided for you in this exercise: a list with the name `areas` and a copy named `areas_copy`.\n",
    "\n",
    "Currently, the first element in the `areas_copy` list is changed and the `areas` list is printed out. If you hit the run code button you'll see that, although you've changed `areas_copy`, the change also takes effect in the `areas` list. That's because `areas` and `areas_copy` point to the same list.\n",
    "\n",
    "If you want to prevent changes in `areas_copy` from also taking effect in `areas`, you'll have to do a more explicit copy of the areas list with `list()` or by using `[:]`."
   ]
  },
  {
   "cell_type": "code",
   "execution_count": 31,
   "id": "6d9e3330",
   "metadata": {},
   "outputs": [
    {
     "name": "stdout",
     "output_type": "stream",
     "text": [
      "[11.25, 18.0, 20.0, 10.75, 9.5]\n"
     ]
    }
   ],
   "source": [
    "# Create list areas\n",
    "areas = [11.25, 18.0, 20.0, 10.75, 9.50]\n",
    "\n",
    "# Change this command\n",
    "areas_copy = list(areas)\n",
    "\n",
    "# Change areas_copy\n",
    "areas_copy[0] = 5.0\n",
    "\n",
    "# Print areas\n",
    "print(areas)"
   ]
  },
  {
   "cell_type": "markdown",
   "id": "66a86e54",
   "metadata": {},
   "source": []
  },
  {
   "cell_type": "markdown",
   "id": "0f19c261",
   "metadata": {},
   "source": [
    "Change the second command, that creates the variable `areas_copy`, such that `areas_copy` is an explicit copy of `areas`. After your edit, changes made to areas_copy shouldn't affect `areas`. Submit the answer to check this."
   ]
  },
  {
   "cell_type": "markdown",
   "id": "f0b51457",
   "metadata": {},
   "source": []
  },
  {
   "cell_type": "markdown",
   "id": "3b90d48f",
   "metadata": {},
   "source": [
    "### Quiz"
   ]
  },
  {
   "cell_type": "code",
   "execution_count": 37,
   "id": "0befff2e",
   "metadata": {},
   "outputs": [
    {
     "name": "stdout",
     "output_type": "stream",
     "text": [
      "['a', 'r', 'y', 'v', 'k', 's']\n"
     ]
    }
   ],
   "source": [
    "# complete the code \n",
    "p = ['a', 'r', 'y', 'v', 'k', 's']\n",
    "### (p[1:3])\n",
    "print(p)\n",
    "# output ['a', 'v', 'k', 's']"
   ]
  },
  {
   "cell_type": "code",
   "execution_count": 38,
   "id": "d167a200",
   "metadata": {},
   "outputs": [
    {
     "name": "stdout",
     "output_type": "stream",
     "text": [
      "['a', 'v', 'k', 's']\n"
     ]
    }
   ],
   "source": [
    "# complete the code \n",
    "p = ['a', 'r', 'y', 'v', 'k', 's']\n",
    "del (p[1:3])\n",
    "print(p)\n"
   ]
  },
  {
   "cell_type": "code",
   "execution_count": null,
   "id": "011b2ba1",
   "metadata": {},
   "outputs": [],
   "source": [
    "foo = [0.2, 1.7, \"A\", \"Wed\", \"1.5\"]\n",
    "##foo = [0:2] = ???\n",
    "##print(foo)\n",
    "## [2.75, -1.5, 'A', 'Wed', '1.5']"
   ]
  },
  {
   "cell_type": "code",
   "execution_count": 41,
   "id": "7977f555",
   "metadata": {},
   "outputs": [
    {
     "name": "stdout",
     "output_type": "stream",
     "text": [
      "[2.75, -1.5, 'A', 'Wed', '1.5']\n"
     ]
    }
   ],
   "source": [
    "foo = [0.2, 1.7, \"A\", \"Wed\", \"1.5\"]\n",
    "foo [0:2] = [2.75, -1.5]\n",
    "print(foo)"
   ]
  },
  {
   "cell_type": "markdown",
   "id": "d68f2330",
   "metadata": {},
   "source": [
    " Given the following list x, what does x[-1]\n",
    "```\n",
    "x = [2, 1, -4, 3, -1, 5]\n",
    "```\n"
   ]
  },
  {
   "cell_type": "markdown",
   "id": "cc3728c2",
   "metadata": {},
   "source": []
  },
  {
   "cell_type": "code",
   "execution_count": 43,
   "id": "79b3ff3d",
   "metadata": {},
   "outputs": [
    {
     "data": {
      "text/plain": [
       "5"
      ]
     },
     "execution_count": 43,
     "metadata": {},
     "output_type": "execute_result"
    }
   ],
   "source": [
    "x = [2, 1, -4, 3, -1, 5]\n",
    "x[-1]"
   ]
  },
  {
   "cell_type": "code",
   "execution_count": 44,
   "id": "09b13abc",
   "metadata": {},
   "outputs": [
    {
     "name": "stdout",
     "output_type": "stream",
     "text": [
      "['Winter', 'Spring', 'Summer', 'Fall']\n"
     ]
    }
   ],
   "source": [
    "# complete de code \n",
    "x = [\"Winter\", \"Spring\"]\n",
    "y = [\"Summer\", \"Fall\"]\n",
    "print(x + y)"
   ]
  },
  {
   "cell_type": "code",
   "execution_count": null,
   "id": "9d7ad4df",
   "metadata": {},
   "outputs": [],
   "source": []
  }
 ],
 "metadata": {
  "kernelspec": {
   "display_name": "Python 3 (ipykernel)",
   "language": "python",
   "name": "python3"
  },
  "language_info": {
   "codemirror_mode": {
    "name": "ipython",
    "version": 3
   },
   "file_extension": ".py",
   "mimetype": "text/x-python",
   "name": "python",
   "nbconvert_exporter": "python",
   "pygments_lexer": "ipython3",
   "version": "3.9.13"
  }
 },
 "nbformat": 4,
 "nbformat_minor": 5
}
