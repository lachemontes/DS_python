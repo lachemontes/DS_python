{
 "cells": [
  {
   "cell_type": "markdown",
   "id": "8b44b2e3",
   "metadata": {},
   "source": [
    "# Manipulating list with python"
   ]
  },
  {
   "cell_type": "markdown",
   "id": "0dd044c9",
   "metadata": {},
   "source": []
  },
  {
   "cell_type": "markdown",
   "id": "47ec823d",
   "metadata": {},
   "source": [
    "Changing list elements is pretty straightforward. You use the same square brackets that we've used to subset lists, and then assign new elements to it using the equals sign. Suppose that after another look at fam, you realize that your dad's height is not up to date anymore, as he's shrinking with age. Instead of 1.89 meters, it should be 1.86 meters. To change this list element, which is at index 7, you can use this line of code. If you now check out fam, you'll see that the value is updated. You can even change an entire list slice at once. To change the elements \"liz\" and 1.73, you access the first two elements with 0:2, and then assign a new list to it. Do you still remember how the plus operator was different for strings and integers?"
   ]
  },
  {
   "cell_type": "code",
   "execution_count": null,
   "id": "dfd63a2c",
   "metadata": {},
   "outputs": [],
   "source": [
    "fam = [\"Liz\", 1.73, \"Emma\", 1.68, \"mom\", 1.71, \"dad\", 1.89]\n",
    "print(fam)"
   ]
  }
 ],
 "metadata": {
  "kernelspec": {
   "display_name": "Python 3 (ipykernel)",
   "language": "python",
   "name": "python3"
  },
  "language_info": {
   "codemirror_mode": {
    "name": "ipython",
    "version": 3
   },
   "file_extension": ".py",
   "mimetype": "text/x-python",
   "name": "python",
   "nbconvert_exporter": "python",
   "pygments_lexer": "ipython3",
   "version": "3.9.13"
  }
 },
 "nbformat": 4,
 "nbformat_minor": 5
}
