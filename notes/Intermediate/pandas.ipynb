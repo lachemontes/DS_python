{
 "cells": [
  {
   "cell_type": "markdown",
   "metadata": {},
   "source": [
    "# Pandas <br>\n",
    "\n",
    "Pandas is a powerful and popular Python library used for data manipulation and analysis. It provides flexible data structures, primarily:\n",
    "\n",
    "•\tSeries (1D labeled arrays) <br>\n",
    "•\tDataFrames (2D tables similar to Excel or SQL tables)<br>\n",
    "\n",
    "Key Features of Pandas:<br>\n",
    "\n",
    "✔ Easy Data Handling – Load, clean, and manipulate datasets efficiently.<br>\n",
    "✔ Data Analysis & Aggregation – Perform filtering, grouping, and statistical operations.<br>\n",
    "✔ Data Visualization – Works well with Matplotlib and Seaborn for charts and graphs.<br>\n",
    "✔ File Support – Read and write CSV, Excel, SQL, JSON, and more.<br>\n",
    "✔ Indexing & Slicing – Quick access to specific rows and columns.<br>\n",
    "\n",
    "\n",
    "As a data scientist, you'll often be working with tons of data. The form of this data can vary greatly, but pretty often, you can boil it down to a tabular structure, that is, in the form of a table like in a spreadsheet. Let's have a look at some examples.<br>"
   ]
  },
  {
   "cell_type": "markdown",
   "metadata": {},
   "source": [
    "## Exercise\n",
    "\n",
    "Dictionary to DataFrame (1) <br>\n",
    "Pandas is an open source library, providing high-performance, easy-to-use data structures and data analysis tools for Python. Sounds promising! <br>\n",
    "\n",
    "The DataFrame is one of Pandas' most important data structures. It's basically a way to store tabular data where you can label the rows and the columns. One way to build a DataFrame is from a dictionary. <br>\n",
    "\n",
    "In the exercises that follow you will be working with vehicle data from different countries. Each observation corresponds to a country and the columns give information about the number of vehicles per capita, whether people drive left or right, and so on. <br>\n",
    "\n",
    "Three lists are defined in the script: <br>\n",
    "\n",
    "`names`, containing the country names for which data is available.<br>\n",
    "`dr`, a list with booleans that tells whether people drive left or right in the corresponding country.<br>\n",
    "`cpc`, the number of motor vehicles per 1000 people in the corresponding country.<br>\n",
    "Each dictionary key is a column label and each value is a list which contains the column elements.<br>"
   ]
  },
  {
   "cell_type": "markdown",
   "metadata": {},
   "source": [
    "**Instructions**\n",
    "\n",
    "Import pandas as pd.<br>\n",
    "Use the pre-defined lists to create a dictionary called my_dict. There should be three key value pairs:<br>\n",
    "key `'country'` and value `names`.<br>\n",
    "key `'drives_right'` and value `dr`.<br>\n",
    "key `'cars_per_cap'` and value `cpc`.<br>\n",
    "Use `pd.DataFrame()` to turn your dict into a DataFrame called `cars`.<br>\n",
    "Print out `cars` and see how beautiful it is.<br>"
   ]
  },
  {
   "cell_type": "code",
   "execution_count": 5,
   "metadata": {},
   "outputs": [
    {
     "name": "stdout",
     "output_type": "stream",
     "text": [
      "         country  drives_right  cars_per_cap\n",
      "0  United States          True           809\n",
      "1      Australia         False           731\n",
      "2          Japan         False           588\n",
      "3          India         False            18\n",
      "4         Russia          True           200\n",
      "5        Morocco          True            70\n",
      "6          Egypt          True            45\n"
     ]
    }
   ],
   "source": [
    "# Pre-defined lists\n",
    "names = ['United States', 'Australia', 'Japan', 'India', 'Russia', 'Morocco', 'Egypt']\n",
    "dr =  [True, False, False, False, True, True, True]\n",
    "cpc = [809, 731, 588, 18, 200, 70, 45]\n",
    "\n",
    "# Import pandas as pd\n",
    "\n",
    "import pandas as pd\n",
    "\n",
    "# Create dictionary my_dict with three key:value pairs: my_dict\n",
    "\n",
    "my_dict = {'country': names, 'drives_right': dr, 'cars_per_cap': cpc} \n",
    "\n",
    "\n",
    "# Build a DataFrame cars from my_dict: cars\n",
    "\n",
    "cars = pd.DataFrame(my_dict)\n",
    "\n",
    "# Print cars\n",
    "\n",
    "print(cars)\n"
   ]
  },
  {
   "cell_type": "markdown",
   "metadata": {},
   "source": []
  },
  {
   "cell_type": "markdown",
   "metadata": {},
   "source": [
    "**Dictionary to DataFrame (2)**\n",
    "The Python code that solves the previous exercise is included in the script. Have you noticed that the row labels (i.e. the labels for the different observations) were automatically set to integers from 0 up to 6?\n",
    "\n",
    "To solve this a list `row_labels` has been created. You can use it to specify the row labels of the cars DataFrame. You do this by setting the `index` attribute of `cars`, that you can access as `cars.index`."
   ]
  },
  {
   "cell_type": "markdown",
   "metadata": {},
   "source": [
    "**Instructions**\n",
    "\n",
    "Hit Run Code to see that, indeed, the row labels are not correctly set.<br>\n",
    "Specify the row labels by setting `cars.index` equal to `row_labels`.<br>\n",
    "Print out `cars` again and check if the row labels are correct this time.<br>"
   ]
  },
  {
   "cell_type": "code",
   "execution_count": 10,
   "metadata": {},
   "outputs": [
    {
     "name": "stdout",
     "output_type": "stream",
     "text": [
      "         country  drives_right  cars_per_cap\n",
      "0  United States          True           809\n",
      "1      Australia         False           731\n",
      "2          Japan         False           588\n",
      "3          India         False            18\n",
      "4         Russia          True           200\n",
      "5        Morocco          True            70\n",
      "6          Egypt          True            45\n",
      "           country  drives_right  cars_per_cap\n",
      "US   United States          True           809\n",
      "AUS      Australia         False           731\n",
      "JPN          Japan         False           588\n",
      "IN           India         False            18\n",
      "RU          Russia          True           200\n",
      "MOR        Morocco          True            70\n",
      "EG           Egypt          True            45\n"
     ]
    }
   ],
   "source": [
    "import pandas as pd\n",
    "\n",
    "# Build cars DataFrame\n",
    "names = ['United States', 'Australia', 'Japan', 'India', 'Russia', 'Morocco', 'Egypt']\n",
    "dr =  [True, False, False, False, True, True, True]\n",
    "cpc = [809, 731, 588, 18, 200, 70, 45]\n",
    "cars_dict = { 'country':names, 'drives_right':dr, 'cars_per_cap':cpc }\n",
    "cars = pd.DataFrame(cars_dict)\n",
    "print(cars)\n",
    "\n",
    "# Definition of row_labels\n",
    "row_labels = ['US', 'AUS', 'JPN', 'IN', 'RU', 'MOR', 'EG']\n",
    "\n",
    "# Specify row labels of cars\n",
    "\n",
    "cars.index = row_labels\n",
    "# Print cars again\n",
    "print(cars)"
   ]
  },
  {
   "cell_type": "markdown",
   "metadata": {},
   "source": [
    "**8Square Brackets (1)**\n",
    "In the video, you saw that you can index and select Pandas DataFrames in many different ways. The simplest, but not the most powerful way, is to use square brackets.<br>\n",
    "\n",
    "In the sample code, the same cars data is imported from a CSV files as a Pandas DataFrame. To select only the cars_per_cap column from cars, you can use:<br>\n",
    "\n",
    "```\n",
    "cars['cars_per_cap']\n",
    "cars[['cars_per_cap']]\n",
    "```\n",
    "The single bracket version gives a Pandas Series, the double bracket version gives a Pandas DataFrame.<br>\n",
    "\n",
    "**Instructions**\n",
    "\n",
    "Use single square brackets to print out the `country` column of `cars` as a Pandas Series.<br>\n",
    "Use double square brackets to print out the `country` column of `cars` as a Pandas DataFrame.<br>\n",
    "Use double square brackets to print out a DataFrame with both the `country` and drives_right columns of cars, in this order."
   ]
  },
  {
   "cell_type": "code",
   "execution_count": 11,
   "metadata": {},
   "outputs": [],
   "source": [
    "# Import cars data\n",
    "import pandas as pd\n",
    "#cars = pd.read_csv('cars.csv', index_col=0)\n",
    "\n",
    "# Print out country column as Pandas Series (1D)\n",
    "#print(cars['country'])  \n",
    "\n",
    "# Print out country column as Pandas DataFrame (2D)\n",
    "#print(cars[['country']])  \n",
    "\n",
    "# Print out DataFrame with both 'country' and 'drives_right' columns\n",
    "#print(cars[['country', 'drives_right']])"
   ]
  },
  {
   "cell_type": "markdown",
   "metadata": {},
   "source": [
    "**Square Brackets (2)**\n",
    "Square brackets can do more than just selecting columns. You can also use them to get rows, or observations, from a DataFrame. The following call selects the first five rows from the cars DataFrame:\n",
    "```\n",
    "cars[0:5]\n",
    "```\n",
    "The result is another DataFrame containing only the rows you specified.<br>\n",
    "\n",
    "Pay attention: You can only select rows using square brackets if you specify a slice, like 0:4. Also, you're using the integer indexes of the rows here, not the row labels!<br>\n",
    "\n",
    "**Instructions**\n",
    "\n",
    "Select the first 3 observations from cars and print them out.<br>\n",
    "Select the fourth, fifth and sixth observation, corresponding to row indexes 3, 4 and 5, and print them out.<br>"
   ]
  },
  {
   "cell_type": "markdown",
   "metadata": {},
   "source": []
  }
 ],
 "metadata": {
  "kernelspec": {
   "display_name": "Python (pyenv-3.11)",
   "language": "python",
   "name": "pyenv-3.11"
  },
  "language_info": {
   "codemirror_mode": {
    "name": "ipython",
    "version": 3
   },
   "file_extension": ".py",
   "mimetype": "text/x-python",
   "name": "python",
   "nbconvert_exporter": "python",
   "pygments_lexer": "ipython3",
   "version": "3.11.11"
  }
 },
 "nbformat": 4,
 "nbformat_minor": 2
}
