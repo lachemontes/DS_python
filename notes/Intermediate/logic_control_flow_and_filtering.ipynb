{
 "cells": [
  {
   "cell_type": "markdown",
   "metadata": {},
   "source": [
    "# Logic, Control Flow and Filtering\n",
    "\n",
    "Equality\n",
    "To check if two Python values, or variables, are equal you can use ==. To check for inequality, you need !=. As a refresher, have a look at the following examples that all result in True. Feel free to try them out.\n",
    "```\n",
    "2 == (1 + 1)\n",
    "\"intermediate\" != \"python\"\n",
    "True != False\n",
    "\"Python\" != \"python\"\n",
    "```\n",
    "When you write these comparisons in a script, you will need to wrap a print() function around them to see the output."
   ]
  },
  {
   "cell_type": "markdown",
   "metadata": {},
   "source": [
    "**Instructions**\n",
    "\n",
    "Write code to see if `True` equals `False`.\n",
    "Write Python code to check if `-5 * 15` is not equal to 75.\n",
    "Ask Python whether the strings `\"pyscript\"` and `\"PyScript\"` are equal.\n",
    "What happens if you compare booleans and integers? Write code to see if `True` and `1` are equal."
   ]
  },
  {
   "cell_type": "code",
   "execution_count": 1,
   "metadata": {},
   "outputs": [
    {
     "name": "stdout",
     "output_type": "stream",
     "text": [
      "False\n",
      "True\n",
      "False\n",
      "True\n"
     ]
    }
   ],
   "source": [
    "# Check if True equals False\n",
    "print(True == False)\n",
    "\n",
    "# Check if -5 * 15 is not equal to 75\n",
    "print(-5 * 15 != 75)\n",
    "\n",
    "# Compare the strings \"pyscript\" and \"PyScript\"\n",
    "print(\"pyscript\" == \"PyScript\")\n",
    "\n",
    "# Compare a boolean and an integer\n",
    "print(True == 1)"
   ]
  },
  {
   "cell_type": "markdown",
   "metadata": {},
   "source": []
  },
  {
   "cell_type": "markdown",
   "metadata": {},
   "source": [
    "Greater and less than\n",
    "In the video, Hugo also talked about the less than and greater than signs, < and > in Python. You can combine them with an equals sign: `<=` and `>=`. Pay attention: `<=` is valid syntax, but `=<` is not.\n",
    "\n",
    "All Python expressions in the following code chunk evaluate to True:\n",
    "\n",
    "```\n",
    "3 < 4\n",
    "3 <= 4\n",
    "\"alpha\" <= \"beta\"\n",
    "```\n",
    "Remember that for string comparison, Python determines the relationship based on alphabetical order."
   ]
  },
  {
   "cell_type": "markdown",
   "metadata": {},
   "source": [
    "**Instructions**\n",
    "\n",
    "Write Python expressions, wrapped in a print() function, to check whether:\n",
    "`x` is greater than or equal to `-10`. `x` has already been defined for you.\n",
    "`\"test\"` is less than or equal to `y`. `y` has already been defined for you.\n",
    "`True` is greater than `False`."
   ]
  },
  {
   "cell_type": "code",
   "execution_count": null,
   "metadata": {},
   "outputs": [],
   "source": [
    "# Comparison of integers\n",
    "x = -3 * 6\n",
    "print(x >= -10)  # Evaluates to False because -18 is not greater than or equal to -10\n",
    "\n",
    "# Comparison of strings\n",
    "y = \"test\"\n",
    "print(\"test\" <= y)  # Evaluates to True because \"test\" is equal to y\n",
    "\n",
    "# Comparison of booleans\n",
    "print(True > False)  # Evaluates to True because True (1) is greater than False (0)"
   ]
  },
  {
   "cell_type": "markdown",
   "metadata": {},
   "source": []
  },
  {
   "cell_type": "markdown",
   "metadata": {},
   "source": [
    "Compare arrays\n",
    "Out of the box, you can also use comparison operators with NumPy arrays.\n",
    "\n",
    "Remember `areas`, the list of area measurements for different rooms in your house from Introduction to Python? This time there's two NumPy arrays: `my_house` and `your_house`. They both contain the areas for the kitchen, living room, bedroom and bathroom in the same order, so you can compare them.\n",
    "\n",
    "**Instructions**\n",
    "\n",
    "Using comparison operators, generate boolean arrays that answer the following questions:\n",
    "\n",
    "Which areas in `my_house` are greater than or equal to `18`?\n",
    "You can also compare two NumPy arrays element-wise. Which areas in my_house are smaller than the ones in `your_house`?\n",
    "Make sure to wrap both commands in a `print()` statement so that you can inspect the output!\n",
    "\n"
   ]
  },
  {
   "cell_type": "code",
   "execution_count": 12,
   "metadata": {},
   "outputs": [
    {
     "name": "stdout",
     "output_type": "stream",
     "text": [
      "[ True  True False False]\n",
      "[False  True  True False]\n"
     ]
    }
   ],
   "source": [
    "# Create arrays\n",
    "import numpy as np\n",
    "my_house = np.array([18.0, 20.0, 10.75, 9.50])\n",
    "your_house = np.array([14.0, 24.0, 14.25, 9.0])\n",
    "\n",
    "# my_house greater than or equal to 18\n",
    "\n",
    "print(my_house >= 18 )\n",
    "\n",
    "# my_house less than your_house\n",
    "print(my_house < your_house )"
   ]
  },
  {
   "cell_type": "code",
   "execution_count": null,
   "metadata": {},
   "outputs": [],
   "source": [
    "# Create arrays\n",
    "import numpy as np\n",
    "\n",
    "my_house = np.array([18.0, 20.0, 10.75, 9.50])\n",
    "your_house = np.array([14.0, 24.0, 14.25, 9.0])\n",
    "\n",
    "# my_house greater than or equal to 18\n",
    "print(my_house >= 18)  # Compara cada elemento de my_house con 18\n",
    "\n",
    "# my_house less than your_house\n",
    "print(my_house < your_house)  # Compara elemento por elemento entre my_house y your_house"
   ]
  },
  {
   "cell_type": "markdown",
   "metadata": {},
   "source": []
  }
 ],
 "metadata": {
  "kernelspec": {
   "display_name": "Python (pyenv-3.11)",
   "language": "python",
   "name": "pyenv-3.11"
  },
  "language_info": {
   "codemirror_mode": {
    "name": "ipython",
    "version": 3
   },
   "file_extension": ".py",
   "mimetype": "text/x-python",
   "name": "python",
   "nbconvert_exporter": "python",
   "pygments_lexer": "ipython3",
   "version": "3.11.11"
  }
 },
 "nbformat": 4,
 "nbformat_minor": 2
}
