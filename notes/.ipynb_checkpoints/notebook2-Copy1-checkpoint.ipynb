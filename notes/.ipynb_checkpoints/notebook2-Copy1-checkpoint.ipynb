{
 "cells": [
  {
   "cell_type": "markdown",
   "id": "db4b7a34",
   "metadata": {},
   "source": [
    "# Hello Python!\n",
    "\n",
    "## Python as a calculator\n",
    "Python is perfectly suited to do basic calculations. <br>\n",
    "It can do addition, subtraction, multiplication and division."
   ]
  },
  {
   "cell_type": "code",
   "execution_count": 1,
   "id": "6d4a7266",
   "metadata": {},
   "outputs": [
    {
     "name": "stdout",
     "output_type": "stream",
     "text": [
      "0.625\n"
     ]
    }
   ],
   "source": [
    "# Hit run code to see the output!\n",
    "print(5 / 8)"
   ]
  },
  {
   "cell_type": "markdown",
   "id": "abce76f0",
   "metadata": {},
   "source": [
    "Print the sum of 4 + 5. <br>\n",
    "Print the result of subtracting 5 from 5.<br>\n",
    "Print the result of multiplying 3 by 5.<br>\n",
    "Print the result of dividing 10 by 2<br>"
   ]
  },
  {
   "cell_type": "code",
   "execution_count": 3,
   "id": "ac172bf2",
   "metadata": {},
   "outputs": [
    {
     "name": "stdout",
     "output_type": "stream",
     "text": [
      "9\n",
      "0\n",
      "15\n",
      "5.0\n"
     ]
    }
   ],
   "source": [
    "# Addition\n",
    "print(4 + 5)\n",
    "\n",
    "# Subtraction\n",
    "\n",
    "print(5 - 5)\n",
    "\n",
    "# Multiplication\n",
    "\n",
    "print(3 * 5)\n",
    "\n",
    "# Division\n",
    "\n",
    "print(10/2)\n",
    "\n"
   ]
  },
  {
   "cell_type": "markdown",
   "id": "9ec617b9",
   "metadata": {},
   "source": [
    "## Variables and Types"
   ]
  },
  {
   "cell_type": "markdown",
   "id": "c28b5657",
   "metadata": {},
   "source": [
    "Once you create (or declare) such a variable, you can later call up its value by typing the variable name. Suppose you measure your height and weight, in metric units: you are 1.79 meters tall, and weigh 68.7 kilograms. You can assign these values to two variables, named height and weight, with an equals sign: If you now type the name of the variable, height, Python looks for the variable name, retrieves its value, and prints it out."
   ]
  },
  {
   "cell_type": "markdown",
   "id": "c7d84b80",
   "metadata": {},
   "source": [
    "### Calculate BMI\n",
    "\n",
    "Let's now calculate the Body Mass Index, or BMI, which is calculated as follows, with weight in kilograms and height in meters. You can do this with the actual values, but you can just as well use the variables height and weight, like in here. Every time you type the variable's name, you are asking Python to change it with the actual value of the variable. weight corresponds to 68.7, and height to 1.79. Finally, this version has Python store the result in a new variable, bmi. bmi now contains the same value as the one you calculated earlier. In Python, variables are used all the time. They help to make your code reproducible.\n",
    "\n",
    "\n",
    "**BMI**=weight/heightˆ2"
   ]
  },
  {
   "cell_type": "code",
   "execution_count": 5,
   "id": "f219fd63",
   "metadata": {},
   "outputs": [],
   "source": [
    "heigh = 1.79\n",
    "weight = 68.7\n"
   ]
  },
  {
   "cell_type": "code",
   "execution_count": 6,
   "id": "cd5cb125",
   "metadata": {},
   "outputs": [
    {
     "name": "stdout",
     "output_type": "stream",
     "text": [
      "21.44127836209856\n"
     ]
    }
   ],
   "source": [
    "bmi= weight/heigh ** 2\n",
    "print(bmi)"
   ]
  },
  {
   "cell_type": "markdown",
   "id": "529c9b80",
   "metadata": {},
   "source": [
    "### Python Types 1\n",
    "\n",
    "In Python, these numbers all have a specific type. You can check out the type of a value with the type function. To see the type of our bmi value, simply write type and then bmi inside parentheses. You can see that it's a float, which is python's way of representing a real number, so a number which can have both an integer part and a fractional part. Python also has a type for integers: int, like this example. To do data science, you'll need more than ints and floats, though."
   ]
  },
  {
   "cell_type": "code",
   "execution_count": 7,
   "id": "b1996389",
   "metadata": {},
   "outputs": [
    {
     "data": {
      "text/plain": [
       "float"
      ]
     },
     "execution_count": 7,
     "metadata": {},
     "output_type": "execute_result"
    }
   ],
   "source": [
    "type(bmi)"
   ]
  },
  {
   "cell_type": "code",
   "execution_count": 8,
   "id": "0ea04370",
   "metadata": {},
   "outputs": [
    {
     "data": {
      "text/plain": [
       "int"
      ]
     },
     "execution_count": 8,
     "metadata": {},
     "output_type": "execute_result"
    }
   ],
   "source": [
    "day_of_week = 5\n",
    "type(day_of_week)"
   ]
  },
  {
   "cell_type": "markdown",
   "id": "83d85484",
   "metadata": {},
   "source": [
    "### Python Types 2\n",
    "Python features tons of other data types. The most common ones are **strings and booleans**. A **string** is Python's way to represent text. You can use both double and single quotes to build a string, as you can see from these examples. If you print the type of the last variable here, you see that it's str, short for string. "
   ]
  },
  {
   "cell_type": "code",
   "execution_count": 9,
   "id": "ed850001",
   "metadata": {},
   "outputs": [
    {
     "data": {
      "text/plain": [
       "str"
      ]
     },
     "execution_count": 9,
     "metadata": {},
     "output_type": "execute_result"
    }
   ],
   "source": [
    "x = \"body mass index\"\n",
    "y = \" this works too\"\n",
    "type(x)"
   ]
  },
  {
   "cell_type": "markdown",
   "id": "88d5a1de",
   "metadata": {},
   "source": [
    "The **Boolean** is a type that can either be True or False. You can think of it as 'Yes' and 'No' in everyday language. Booleans will be very useful in the future, to perform filtering operations on your data for example. There's something special about Python data types."
   ]
  },
  {
   "cell_type": "code",
   "execution_count": 10,
   "id": "51b7830f",
   "metadata": {},
   "outputs": [
    {
     "data": {
      "text/plain": [
       "bool"
      ]
     },
     "execution_count": 10,
     "metadata": {},
     "output_type": "execute_result"
    }
   ],
   "source": [
    "z = True\n",
    "type(z)"
   ]
  },
  {
   "cell_type": "markdown",
   "id": "025fcc4b",
   "metadata": {},
   "source": [
    "### Python Types 3"
   ]
  },
  {
   "cell_type": "markdown",
   "id": "9395c88c",
   "metadata": {},
   "source": [
    "Have a look at this line of code, that sums two integers, and then this line of code, that sums two strings. For the integers, the values were summed, while for the strings, the strings were pasted together. The plus operator behaved differently for different data types. This is a general principle: how the code behaves depends on the types you're working with. In the exercises that follow, you'll create your first variables and experiment with some of Python's data types. I'll see you in the next video to explain all about lists."
   ]
  },
  {
   "cell_type": "code",
   "execution_count": 12,
   "id": "8268f6cb",
   "metadata": {},
   "outputs": [
    {
     "data": {
      "text/plain": [
       "5"
      ]
     },
     "execution_count": 12,
     "metadata": {},
     "output_type": "execute_result"
    }
   ],
   "source": [
    "2 + 3"
   ]
  },
  {
   "cell_type": "code",
   "execution_count": 14,
   "id": "88e89721",
   "metadata": {},
   "outputs": [
    {
     "data": {
      "text/plain": [
       "'papaya'"
      ]
     },
     "execution_count": 14,
     "metadata": {},
     "output_type": "execute_result"
    }
   ],
   "source": [
    "'papa' + 'ya'\n"
   ]
  },
  {
   "cell_type": "markdown",
   "id": "f0f40664",
   "metadata": {},
   "source": [
    "## Variable Assignment\n",
    "In Python, a variable allows you to refer to a value with a name. To create a variable x with a value of 5, you use =, like this example:\n",
    "\n",
    "x = 5\n",
    "You can now use the name of this variable, x, instead of the actual value, 5.\n",
    "\n",
    "Remember, = in Python means assignment, it doesn't test equality! Try it in the exercise by replacing ____ with your code."
   ]
  },
  {
   "cell_type": "code",
   "execution_count": 15,
   "id": "280a40d1",
   "metadata": {},
   "outputs": [
    {
     "name": "stdout",
     "output_type": "stream",
     "text": [
      "100\n"
     ]
    }
   ],
   "source": [
    "# Create a variable savings\n",
    "saving = 100\n",
    "\n",
    "# Print out savings\n",
    "print(saving)"
   ]
  },
  {
   "cell_type": "markdown",
   "id": "84232db6",
   "metadata": {},
   "source": [
    "1.Create a variable monthly_savings, equal to 10 and num_months, equal to 4.<br>\n",
    "2.Multiply monthly_savings by num_months and assign it to new_savings.<br>\n",
    "3.Print the value of new_savings.<br>"
   ]
  },
  {
   "cell_type": "code",
   "execution_count": 16,
   "id": "ba4f8f39",
   "metadata": {},
   "outputs": [
    {
     "name": "stdout",
     "output_type": "stream",
     "text": [
      "40\n"
     ]
    }
   ],
   "source": [
    "# Create the variables monthly_savings and num_months\n",
    "\n",
    "monthly_savings = 10\n",
    "num_months = 4\n",
    "# Multiply monthly_savings and num_months\n",
    "\n",
    "new_savings = monthly_savings * num_months\n",
    "\n",
    "# Print new_savings\n",
    "print(new_savings)"
   ]
  },
  {
   "cell_type": "markdown",
   "id": "1592db18",
   "metadata": {},
   "source": [
    "Other variable types\n",
    "In the previous exercise, you worked with the integer Python data type:\n",
    "\n",
    "`int`, or integer: a number without a fractional part. `savings`, with the value 100, is an example of an integer.\n",
    "Next to numerical data types, there are three other very common data types:\n",
    "\n",
    "`float`, or floating point: a number that has both an integer and fractional part, separated by a point. 1.1, is an example of a float.\n",
    "`str`, or string: a type to represent text. You can use single or double quotes to build a string.\n",
    "`bool`, or boolean: a type to represent logical values. It can only be True or False (the capitalization is important!)."
   ]
  },
  {
   "cell_type": "markdown",
   "id": "80cfc2da",
   "metadata": {},
   "source": [
    "Create a new float, half, with the value `0.5`. <br>\n",
    "Create a new string, `intro`, with the value `\"Hello! How are you?\"`. <br>\n",
    "Create a new boolean, `is_good`, with the value `True`. <br>"
   ]
  },
  {
   "cell_type": "code",
   "execution_count": 18,
   "id": "ac24f349",
   "metadata": {},
   "outputs": [],
   "source": [
    "half = 0.5\n",
    "intro = \"Hello! How are you?\"\n",
    "is_good = True"
   ]
  },
  {
   "cell_type": "markdown",
   "id": "f21e7406",
   "metadata": {},
   "source": [
    "### Operations with other types\n",
    "\n",
    "Variables come in different types in Python. You can see the type of a variable by using type(). For example, to see type of `a`, execute: `type(a)`.\n",
    "\n",
    "Different types behave differently in Python. When you sum two strings, for example, you'll get different behavior than when you sum two integers or two booleans.\n",
    "\n",
    "**Instructions 1/2**\n",
    "\n",
    "Add `savings` and `new_savings` and assign it to `total_savings`.\n",
    "Use `type()` to print the resulting type of `total_savings`.\n"
   ]
  },
  {
   "cell_type": "code",
   "execution_count": 20,
   "id": "00677385",
   "metadata": {},
   "outputs": [
    {
     "name": "stdout",
     "output_type": "stream",
     "text": [
      "140\n",
      "<class 'int'>\n"
     ]
    }
   ],
   "source": [
    "savings = 100\n",
    "new_savings = 40\n",
    "\n",
    "# Calculate total_savings using savings and new_savings\n",
    "total_savings = savings + new_savings\n",
    "print(total_savings)\n",
    "\n",
    "# Print the type of total_savings\n",
    "print(type(total_savings))"
   ]
  },
  {
   "cell_type": "markdown",
   "id": "536c3ba3",
   "metadata": {},
   "source": [
    "**Instructions 1/2**<br>\n",
    "Calculate the sum of `intro` and `intro` and assign the result to `doubleintro`.<br>\n",
    "Print out `doubleintro`. Did you expect this?<br>"
   ]
  },
  {
   "cell_type": "code",
   "execution_count": 22,
   "id": "e76e8ff6",
   "metadata": {},
   "outputs": [
    {
     "name": "stdout",
     "output_type": "stream",
     "text": [
      "Hello! How are you?Hello! How are you?\n"
     ]
    }
   ],
   "source": [
    "intro = \"Hello! How are you?\"\n",
    "\n",
    "# Assign sum of intro and intro to doubleintro\n",
    "\n",
    "doubleintro = intro + intro\n",
    "# Print out doubleintro\n",
    "print(doubleintro)"
   ]
  },
  {
   "cell_type": "code",
   "execution_count": null,
   "id": "1a4703ad",
   "metadata": {},
   "outputs": [],
   "source": []
  }
 ],
 "metadata": {
  "kernelspec": {
   "display_name": "Python 3 (ipykernel)",
   "language": "python",
   "name": "python3"
  },
  "language_info": {
   "codemirror_mode": {
    "name": "ipython",
    "version": 3
   },
   "file_extension": ".py",
   "mimetype": "text/x-python",
   "name": "python",
   "nbconvert_exporter": "python",
   "pygments_lexer": "ipython3",
   "version": "3.9.13"
  }
 },
 "nbformat": 4,
 "nbformat_minor": 5
}
