{
 "cells": [
  {
   "cell_type": "markdown",
   "id": "f8e3300a",
   "metadata": {},
   "source": [
    "# Hello Python!\n",
    "\n",
    "## Python as a calculator\n",
    "Python is perfectly suited to do basic calculations. <br>\n",
    "It can do addition, subtraction, multiplication and division."
   ]
  },
  {
   "cell_type": "code",
   "execution_count": 1,
   "id": "e4655621",
   "metadata": {},
   "outputs": [
    {
     "name": "stdout",
     "output_type": "stream",
     "text": [
      "0.625\n"
     ]
    }
   ],
   "source": [
    "# Hit run code to see the output!\n",
    "print(5 / 8)"
   ]
  },
  {
   "cell_type": "markdown",
   "id": "4209e45f",
   "metadata": {},
   "source": [
    "Print the sum of 4 + 5. <br>\n",
    "Print the result of subtracting 5 from 5.<br>\n",
    "Print the result of multiplying 3 by 5.<br>\n",
    "Print the result of dividing 10 by 2<br>"
   ]
  },
  {
   "cell_type": "code",
   "execution_count": 3,
   "id": "287d17a0",
   "metadata": {},
   "outputs": [
    {
     "name": "stdout",
     "output_type": "stream",
     "text": [
      "9\n",
      "0\n",
      "15\n",
      "5.0\n"
     ]
    }
   ],
   "source": [
    "# Addition\n",
    "print(4 + 5)\n",
    "\n",
    "# Subtraction\n",
    "\n",
    "print(5 - 5)\n",
    "\n",
    "# Multiplication\n",
    "\n",
    "print(3 * 5)\n",
    "\n",
    "# Division\n",
    "\n",
    "print(10/2)\n",
    "\n"
   ]
  },
  {
   "cell_type": "code",
   "execution_count": null,
   "id": "5ba32092",
   "metadata": {},
   "outputs": [],
   "source": []
  }
 ],
 "metadata": {
  "kernelspec": {
   "display_name": "Python 3 (ipykernel)",
   "language": "python",
   "name": "python3"
  },
  "language_info": {
   "codemirror_mode": {
    "name": "ipython",
    "version": 3
   },
   "file_extension": ".py",
   "mimetype": "text/x-python",
   "name": "python",
   "nbconvert_exporter": "python",
   "pygments_lexer": "ipython3",
   "version": "3.9.13"
  }
 },
 "nbformat": 4,
 "nbformat_minor": 5
}
