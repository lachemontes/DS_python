{
 "cells": [
  {
   "cell_type": "markdown",
   "id": "3c03be60",
   "metadata": {},
   "source": [
    "## Python Lists"
   ]
  },
  {
   "cell_type": "markdown",
   "id": "2adfc4e8",
   "metadata": {},
   "source": [
    "On the numbers side, there's the `float`, to represent a real number, and the `int`, to represent an integer. Next, we also have `str`, short for string, to represent text in Python, and `bool`, which can be either True or False. You can save these values as a variable, like these examples show. Each variable then represents a single value. As a data scientist, you'll often want to work with many data points. If you for example want to measure the height of everybody in your family, and store this information in Python, it would be inconvenient to create a new python variable for each point you collected right? What you can do instead, is store all this information in a Python list.<br>\n",
    "`float - real number`<br>\n",
    "`int - ìnteger numbers` <br>\n",
    "`str - string, text`<br>\n",
    "`bool - True, False`<br>"
   ]
  },
  {
   "cell_type": "markdown",
   "id": "333d81dd",
   "metadata": {},
   "source": [
    "As a data scientist,you'll often want to work with many data points. If you for example want to measure the height of everybody in your family, and store this information in Python, it would be inconvenient to create a new python variable for each point you collected right? What you can do instead, is store all this information in a Python list."
   ]
  },
  {
   "cell_type": "markdown",
   "id": "31d6b6a4",
   "metadata": {},
   "source": [
    "As a data scientist,you'll often want to work with many data points. If you for example want to measure the height of everybody in your family, and store this information in Python, it would be inconvenient to create a new python variable for each point you collected right? What you can do instead, is store all this information in a Python list."
   ]
  },
  {
   "cell_type": "markdown",
   "id": "2ab7409a",
   "metadata": {},
   "source": [
    "You can build such a list with square brackets. Suppose you asked your two sisters and parents for their height, in meters. You can build the list as follows: Of course, also this data structure can be referenced to with a variable. Simply put the variable name and the equals sign in front, like here. A list is a way to give a single name to a collection of values. These values, or elements, can have any type; they can be floats, integer, booleans, strings, but also more advanced Python types, even lists. It's perfectly possible for a list to contain different types as well."
   ]
  },
  {
   "cell_type": "markdown",
   "id": "6d9de7e4",
   "metadata": {},
   "source": [
    "Suppose, for example, that you want to add the names of your sisters and parents to the list, so that you know which height belongs to who. You can throw in some strings without issues. But that's not all. I just told you that lists can also contain lists themselves. Instead of putting the strings in between the numbers, you can create little sublists for each member of the family. One for liz, one for emma and so on. Now, you can tell Python that these sublists are the elements of another list, that I named fam2: the little lists are wrapped in square brackets and separated with commas. If you now print out fam2, you see that we have a list of lists. The main list contains 4 sub-lists. We're dealing with a new Python type here, next to the strings, booleans, integers and floats you already know about:"
   ]
  },
  {
   "cell_type": "code",
   "execution_count": 4,
   "id": "bfc518ab",
   "metadata": {},
   "outputs": [],
   "source": [
    "# Example\n",
    "fam = [\"Sam\", 1.78, \"Carl\", 1.73, \"Peter\", 1.55, \"Ana\", 1.80]"
   ]
  },
  {
   "cell_type": "code",
   "execution_count": 5,
   "id": "976d1be8",
   "metadata": {},
   "outputs": [],
   "source": [
    "fam2 = [[\"Sam\", 1.78,],\n",
    "        [\"Carl\", 1.73], \n",
    "        [\"Peter\", 1.55], \n",
    "        [\"Ana\", 1.80]]"
   ]
  },
  {
   "cell_type": "code",
   "execution_count": 6,
   "id": "0bb88417",
   "metadata": {},
   "outputs": [
    {
     "data": {
      "text/plain": [
       "list"
      ]
     },
     "execution_count": 6,
     "metadata": {},
     "output_type": "execute_result"
    }
   ],
   "source": [
    "type(fam)"
   ]
  },
  {
   "cell_type": "markdown",
   "id": "d113572c",
   "metadata": {},
   "source": [
    "### Exercise lists\n",
    "Create a list <br>\n",
    "A list is a compound data type; you can group values together, like this:<br>\n",
    "\n",
    "a = \"is\"<br>\n",
    "b = \"nice\"<br>\n",
    "my_list = [\"my\", \"list\", a, b]<br>\n",
    "After measuring the height of your family, you decide to collect some information on the house you're living in. The areas of the different parts of your house are stored in separate variables in the exercise.\n",
    "\n",
    "**Instrcutions** <br>\n",
    "Create a list, `areas`, that contains the area of the hallway (`hall`), kitchen (`ki`), living room (`liv`), bedroom (`bed`) and bathroom (`bath`), in this order. Use the predefined variables.\n",
    "Print areas with the print() function."
   ]
  },
  {
   "cell_type": "code",
   "execution_count": 8,
   "id": "3b47d86f",
   "metadata": {},
   "outputs": [
    {
     "name": "stdout",
     "output_type": "stream",
     "text": [
      "[11.25, 18.0, 20.0, 10.75, 9.5]\n"
     ]
    }
   ],
   "source": [
    "hall = 11.25\n",
    "kit = 18.0\n",
    "liv = 20.0\n",
    "bed = 10.75\n",
    "bath = 9.50\n",
    "\n",
    "# Create list areas\n",
    "\n",
    "areas = [hall, kit, liv, bed, bath]\n",
    "\n",
    "# Print areas\n",
    "print(areas)"
   ]
  },
  {
   "cell_type": "markdown",
   "id": "8be69ffb",
   "metadata": {},
   "source": [
    "### Create lists with different types\n",
    "Although it's not really common, a list can also contain a mix of Python types including strings, floats, and booleans.\n",
    "\n",
    "You're now going to add the room names to your list, so you can easily see both the room name and size together.\n",
    "\n",
    "Some of the code has been provided for you to get you started. Pay attention here! \"bathroom\"\n",
    "is a string, while bath is a variable that represents the float 9.50 you specified earlier.\n",
    "\n",
    "Finish the code that creates the areas list. Build the list so that the list first contains the name of each room as a string and then its area. In other words, add the strings \"hallway\", \"kitchen\" and \"bedroom\" at the appropriate locations. Print areas again; is the printout more informative this time?"
   ]
  },
  {
   "cell_type": "code",
   "execution_count": 9,
   "id": "2d18d232",
   "metadata": {},
   "outputs": [],
   "source": [
    "hall = 11.25\n",
    "kit = 18.0\n",
    "liv = 20.0\n",
    "bed = 10.75\n",
    "bath = 9.50\n",
    "\n",
    "# Adapt list areas\n",
    "#areas = [____, hall, ____, kit, \"living room\", liv, ____, bed, \"bathroom\", bath]\n",
    "\n",
    "# Print areas\n",
    "#____"
   ]
  },
  {
   "cell_type": "code",
   "execution_count": 10,
   "id": "dc27b8b8",
   "metadata": {},
   "outputs": [
    {
     "name": "stdout",
     "output_type": "stream",
     "text": [
      "['hallway', 11.25, 'kitchen', 18.0, 'living room', 20.0, 'bedroom', 10.75, 'bathroom', 9.5]\n"
     ]
    }
   ],
   "source": [
    "hall = 11.25\n",
    "kit = 18.0\n",
    "liv = 20.0\n",
    "bed = 10.75\n",
    "bath = 9.50\n",
    "\n",
    "# Adapt list areas\n",
    "areas = [\"hallway\", hall, \"kitchen\", kit, \"living room\", liv, \"bedroom\", bed, \"bathroom\", bath]\n",
    "\n",
    "# Print areas\n",
    "print(areas)"
   ]
  },
  {
   "cell_type": "markdown",
   "id": "d8f77a6f",
   "metadata": {},
   "source": [
    "**List of lists** <br>\n",
    "As a data scientist, you'll often be dealing with a lot of data, and it will make sense to group some of this data.<br>\n",
    "\n",
    "Instead of creating a list containing strings and floats, representing the names and areas of the rooms in your house, you can create a list of lists. <br>\n",
    "\n",
    "Remember: `\"hallway\"` is a string, while `hall` is a variable that represents the float `11.25` you specified earlier.<br>"
   ]
  },
  {
   "cell_type": "markdown",
   "id": "149975b7",
   "metadata": {},
   "source": [
    "Finish the list of lists so that it also contains the bedroom and bathroom data. Make sure you enter these in order!\n",
    "Print out house; does this way of structuring your data make more sense?"
   ]
  },
  {
   "cell_type": "code",
   "execution_count": 12,
   "id": "ecf0a6e9",
   "metadata": {},
   "outputs": [],
   "source": [
    "hall = 11.25\n",
    "kit = 18.0\n",
    "liv = 20.0\n",
    "bed = 10.75\n",
    "bath = 9.50\n",
    "\n",
    "# House information as list of lists\n",
    "#house = [[\"hallway\", hall],\n",
    "#         [\"kitchen\", kit],\n",
    "#         [\"living room\", liv],\n",
    "#        ____,\n",
    "#        ____]\n",
    "\n",
    "# Print out house\n",
    "#____"
   ]
  },
  {
   "cell_type": "code",
   "execution_count": 13,
   "id": "e0d059cc",
   "metadata": {},
   "outputs": [
    {
     "name": "stdout",
     "output_type": "stream",
     "text": [
      "[['hallway', 11.25], ['kitchen', 18.0], ['living room', 20.0], ['bedroom', 10.75], ['bathroom'], 9.5]\n"
     ]
    }
   ],
   "source": [
    "hall = 11.25\n",
    "kit = 18.0\n",
    "liv = 20.0\n",
    "bed = 10.75\n",
    "bath = 9.50\n",
    "\n",
    "# House information as list of lists\n",
    "house = [[\"hallway\", hall],\n",
    "         [\"kitchen\", kit],\n",
    "         [\"living room\", liv],\n",
    "        [\"bedroom\", bed],\n",
    "        [\"bathroom\"], bath]\n",
    "\n",
    "# Print out house\n",
    "print(house)"
   ]
  },
  {
   "cell_type": "code",
   "execution_count": 14,
   "id": "e6fe64d8",
   "metadata": {},
   "outputs": [],
   "source": [
    "### Subsetting Lists"
   ]
  },
  {
   "cell_type": "code",
   "execution_count": 15,
   "id": "f6cd5cea",
   "metadata": {},
   "outputs": [
    {
     "name": "stdout",
     "output_type": "stream",
     "text": [
      "['Liz', 1.73, 'emma', 1.68, 'mom', 1.72, 'dad', 1.89]\n"
     ]
    }
   ],
   "source": [
    "fam2 = [\"Liz\", 1.73, \"emma\", 1.68, \"mom\" , 1.72, \"dad\", 1.89]\n",
    "print (fam2)"
   ]
  },
  {
   "cell_type": "markdown",
   "id": "28d2a0c4",
   "metadata": {},
   "source": [
    "Python uses the index to do this. Have a look at the fam list again here. The first element in the list has index 0, the second element has index 1, and so on. Suppose that you want to select the height of emma, the float 1.68. It's the fourth element, so it has index 3. To select it, you use 3 inside square brackets. Similarly, to select the string \"dad\" from the list,"
   ]
  },
  {
   "cell_type": "code",
   "execution_count": 16,
   "id": "5b910fbb",
   "metadata": {},
   "outputs": [
    {
     "data": {
      "text/plain": [
       "1.68"
      ]
     },
     "execution_count": 16,
     "metadata": {},
     "output_type": "execute_result"
    }
   ],
   "source": [
    "fam2[3]"
   ]
  },
  {
   "cell_type": "markdown",
   "id": "243b87fe",
   "metadata": {},
   "source": [
    "which is the seventh element in the list, you'll need to put the index 6 inside square brackets. You can also count backwards, using negative indexes. This is useful if you want to get some elements at the end of your list. To get your dad's height, for example, you'll need the index -1. These are the negative indexes for all list elements.\n"
   ]
  },
  {
   "cell_type": "code",
   "execution_count": 17,
   "id": "7a2364fc",
   "metadata": {},
   "outputs": [
    {
     "data": {
      "text/plain": [
       "1.89"
      ]
     },
     "execution_count": 17,
     "metadata": {},
     "output_type": "execute_result"
    }
   ],
   "source": [
    "fam2[-1]"
   ]
  },
  {
   "cell_type": "code",
   "execution_count": 18,
   "id": "6c90b42d",
   "metadata": {},
   "outputs": [
    {
     "data": {
      "text/plain": [
       "1.89"
      ]
     },
     "execution_count": 18,
     "metadata": {},
     "output_type": "execute_result"
    }
   ],
   "source": [
    "# or \n",
    "fam2[7]"
   ]
  },
  {
   "cell_type": "markdown",
   "id": "45df9260",
   "metadata": {},
   "source": [
    "### **List slicing** <br>\n",
    "which allows you to select multiple elements from a list, thus creating a new list. You can do this by specifying a range, using a colon. Let's first have another look at the list, and then try this piece of code. Can you guess what it'll return? "
   ]
  },
  {
   "cell_type": "markdown",
   "id": "60c036b1",
   "metadata": {},
   "source": [
    "Apparently, only the elements with index 3 and 4, get returned. The element with index 5 is not included. In general, this is the syntax: the index you specify before the colon, so where the slice starts, is included, while the index you specify after the colon, where the slice ends, is not. With this in mind, can you tell what this call will return? You probably guessed correctly that this call gives you a list with three elements, corresponding to the elements with index 1, 2 and 3 of the fam list. You can also choose to just leave out the index before or after the colon.\n",
    "[start : end]"
   ]
  },
  {
   "cell_type": "code",
   "execution_count": 19,
   "id": "d2a5dfd3",
   "metadata": {},
   "outputs": [
    {
     "data": {
      "text/plain": [
       "[1.73, 'emma', 1.68]"
      ]
     },
     "execution_count": 19,
     "metadata": {},
     "output_type": "execute_result"
    }
   ],
   "source": [
    "fam2[1:4]"
   ]
  },
  {
   "cell_type": "markdown",
   "id": "14e6be93",
   "metadata": {},
   "source": [
    "If you leave out the index where the slice should begin, you're telling Python to start the slice from index 0, like this example. If you leave out the index where the slice should end, you include all elements up to and including the last element in the list, like here. Now it's time to head over to the exercises,"
   ]
  },
  {
   "cell_type": "code",
   "execution_count": 20,
   "id": "fd7c33d1",
   "metadata": {},
   "outputs": [
    {
     "data": {
      "text/plain": [
       "['Liz', 1.73, 'emma', 1.68]"
      ]
     },
     "execution_count": 20,
     "metadata": {},
     "output_type": "execute_result"
    }
   ],
   "source": [
    "fam2[:4]"
   ]
  },
  {
   "cell_type": "code",
   "execution_count": 21,
   "id": "0d8e42d9",
   "metadata": {},
   "outputs": [
    {
     "name": "stdout",
     "output_type": "stream",
     "text": [
      "['Liz', 1.73, 'emma', 1.68, 'mom', 1.72, 'dad', 1.89]\n"
     ]
    }
   ],
   "source": [
    "print(fam2)"
   ]
  },
  {
   "cell_type": "markdown",
   "id": "dceb2b31",
   "metadata": {},
   "source": [
    "### Exercise\n",
    "\n",
    "Subset and conquer\n",
    "Subsetting Python lists is a piece of cake. Take the code sample below, which creates a list x and then selects \"b\" from it. Remember that this is the second element, so it has index 1. You can also use negative indexing.\n",
    "```\n",
    "x = [\"a\", \"b\", \"c\", \"d\"]\n",
    "x[1]\n",
    "x[-3] # same result!\n",
    "```\n",
    "Remember the areas list from before, containing both strings and floats? Its definition is already in the script. Can you add the correct code to do some Python subsetting?"
   ]
  },
  {
   "cell_type": "code",
   "execution_count": 23,
   "id": "76299e47",
   "metadata": {},
   "outputs": [],
   "source": [
    "# Create the areas list\n",
    "areas = [\"hallway\", 11.25, \"kitchen\", 18.0, \"living room\", 20.0, \"bedroom\", 10.75, \"bathroom\", 9.50]\n"
   ]
  },
  {
   "cell_type": "code",
   "execution_count": 24,
   "id": "694cf120",
   "metadata": {},
   "outputs": [
    {
     "name": "stdout",
     "output_type": "stream",
     "text": [
      "['hallway', 11.25, 'kitchen', 18.0, 'living room', 20.0, 'bedroom', 10.75, 'bathroom', 9.5]\n"
     ]
    }
   ],
   "source": [
    "print(areas)"
   ]
  },
  {
   "cell_type": "code",
   "execution_count": 25,
   "id": "aac81939",
   "metadata": {},
   "outputs": [],
   "source": [
    "# Print out second element from areas\n",
    "#print(areas[____])\n",
    "\n",
    "# Print out last element from areas\n",
    "#print(areas[____])\n",
    "\n",
    "# Print out the area of the living room\n",
    "#print(areas[____])"
   ]
  },
  {
   "cell_type": "code",
   "execution_count": 26,
   "id": "e0e1db8c",
   "metadata": {},
   "outputs": [
    {
     "name": "stdout",
     "output_type": "stream",
     "text": [
      "11.25\n"
     ]
    }
   ],
   "source": [
    "# Print out second element from areas\n",
    "print(areas[1])\n"
   ]
  },
  {
   "cell_type": "code",
   "execution_count": 27,
   "id": "f126fd93",
   "metadata": {},
   "outputs": [
    {
     "name": "stdout",
     "output_type": "stream",
     "text": [
      "9.5\n"
     ]
    }
   ],
   "source": [
    "# Print out last element from areas\n",
    "print(areas[9])"
   ]
  },
  {
   "cell_type": "code",
   "execution_count": 28,
   "id": "e7155e83",
   "metadata": {},
   "outputs": [
    {
     "name": "stdout",
     "output_type": "stream",
     "text": [
      "20.0\n"
     ]
    }
   ],
   "source": [
    "# Print out the area of the living room\n",
    "print(areas[5])"
   ]
  },
  {
   "cell_type": "markdown",
   "id": "e7718c72",
   "metadata": {},
   "source": [
    "### Exercise 2\n",
    "**Slicing and dicing**\n",
    "Selecting single values from a list is just one part of the story. It's also possible to slice your list, which means selecting multiple elements from your list. Use the following syntax:\n",
    "\n",
    "```\n",
    "my_list[start:end]\n",
    "```\n",
    "\n",
    "The `start` index will be included, while the `end` index is not. However, it's also possible not to specify these indexes. If you don't specify the `start` index, Python figures out that you want to start your slice at the beginning of your list."
   ]
  },
  {
   "cell_type": "markdown",
   "id": "421d35d6",
   "metadata": {},
   "source": [
    "1. Use slicing to create a list, downstairs, that contains the first 6 elements of areas."
   ]
  },
  {
   "cell_type": "code",
   "execution_count": 29,
   "id": "a1eefeee",
   "metadata": {},
   "outputs": [
    {
     "name": "stdout",
     "output_type": "stream",
     "text": [
      "['hallway', 11.25, 'kitchen', 18.0, 'living room', 20.0, 'bedroom', 10.75, 'bathroom', 9.5]\n"
     ]
    }
   ],
   "source": [
    "# Create the areas list\n",
    "areas = [\"hallway\", 11.25, \"kitchen\", 18.0, \"living room\", 20.0, \"bedroom\", 10.75, \"bathroom\", 9.50]\n",
    "print(areas)\n"
   ]
  },
  {
   "cell_type": "code",
   "execution_count": 30,
   "id": "12b4b6c7",
   "metadata": {},
   "outputs": [
    {
     "name": "stdout",
     "output_type": "stream",
     "text": [
      "['hallway', 11.25, 'kitchen', 18.0, 'living room', 20.0]\n"
     ]
    }
   ],
   "source": [
    "# Use slicing to create downstairs\n",
    "#downstairs = areas[____]\n",
    "\n",
    "downstairs = areas[:6]\n",
    "print(downstairs)\n"
   ]
  },
  {
   "cell_type": "code",
   "execution_count": 31,
   "id": "a7b4d8b9",
   "metadata": {},
   "outputs": [
    {
     "name": "stdout",
     "output_type": "stream",
     "text": [
      "['bedroom', 10.75, 'bathroom', 9.5]\n"
     ]
    }
   ],
   "source": [
    "# Use slicing to create upstairs\n",
    "upstairs = areas[6:10]\n",
    "print(upstairs)"
   ]
  },
  {
   "cell_type": "markdown",
   "id": "a4a0fb40",
   "metadata": {},
   "source": [
    "### Subsetting lists of lists\n",
    "A Python list can also contain other lists.\n",
    "\n",
    "To subset lists of lists, you can use the same technique as before: square brackets. \n",
    "    This would look something like this for a list, `house`:\n",
    "\n"
   ]
  },
  {
   "cell_type": "code",
   "execution_count": 46,
   "id": "6196a292",
   "metadata": {},
   "outputs": [],
   "source": [
    "house = [[\"hallway\", 11.25],\n",
    "         [\"kitchen\", 18.0],\n",
    "         [\"living room\", 20.0],\n",
    "         [\"bedroom\", 10.75],\n",
    "         [\"bathroom\", 9.50]]\n",
    "\n",
    "# Subset the house list\n",
    "#house___"
   ]
  },
  {
   "cell_type": "markdown",
   "id": "4cb71c97",
   "metadata": {},
   "source": [
    "1. Subset the house list to get the float 9.5.\n",
    "\n"
   ]
  },
  {
   "cell_type": "code",
   "execution_count": 51,
   "id": "76eddf2c",
   "metadata": {},
   "outputs": [
    {
     "data": {
      "text/plain": [
       "9.5"
      ]
     },
     "execution_count": 51,
     "metadata": {},
     "output_type": "execute_result"
    }
   ],
   "source": [
    "house[-1][1]"
   ]
  }
 ],
 "metadata": {
  "kernelspec": {
   "display_name": "Python 3 (ipykernel)",
   "language": "python",
   "name": "python3"
  },
  "language_info": {
   "codemirror_mode": {
    "name": "ipython",
    "version": 3
   },
   "file_extension": ".py",
   "mimetype": "text/x-python",
   "name": "python",
   "nbconvert_exporter": "python",
   "pygments_lexer": "ipython3",
   "version": "3.9.13"
  }
 },
 "nbformat": 4,
 "nbformat_minor": 5
}
